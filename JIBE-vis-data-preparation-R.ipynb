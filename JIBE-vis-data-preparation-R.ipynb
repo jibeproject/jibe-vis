{
 "cells": [
  {
   "cell_type": "markdown",
   "metadata": {},
   "source": [
    "# JIBE-Vis data preparation\n",
    "\n",
    "The JIBE-Vis project (aka VicHealth-Viz) aims to make the JIBE modelling outputs accessible and useful for stakeholders, both in Melbourne and Manchester.  More broadly, the proposed platform (https://transporthealthimpacts.org) is intended to serve as an ongoing outlet for data stories illustrating the health impacts of transport planning scenarios.\n",
    "\n",
    "This notebook will be used to record additional data processing undertaken using JIBE modelling outputs and additional external data for inclusion in the Transport Health Impacts data platform."
   ]
  }
 ],
 "metadata": {
  "language_info": {
   "name": "python"
  }
 },
 "nbformat": 4,
 "nbformat_minor": 2
}
